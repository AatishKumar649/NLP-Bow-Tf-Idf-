{
  "nbformat": 4,
  "nbformat_minor": 0,
  "metadata": {
    "colab": {
      "provenance": [],
      "authorship_tag": "ABX9TyNbpWAuRdpNmP7aYWiQkvq3",
      "include_colab_link": true
    },
    "kernelspec": {
      "name": "python3",
      "display_name": "Python 3"
    },
    "language_info": {
      "name": "python"
    }
  },
  "cells": [
    {
      "cell_type": "markdown",
      "metadata": {
        "id": "view-in-github",
        "colab_type": "text"
      },
      "source": [
        "<a href=\"https://colab.research.google.com/github/AatishKumar649/NLP-Bow-Tf-Idf-/blob/main/NLP(Bow%2CTF_IDF%2CWord2vec).ipynb\" target=\"_parent\"><img src=\"https://colab.research.google.com/assets/colab-badge.svg\" alt=\"Open In Colab\"/></a>"
      ]
    },
    {
      "cell_type": "code",
      "execution_count": 1,
      "metadata": {
        "colab": {
          "base_uri": "https://localhost:8080/"
        },
        "id": "mwHCnQ9m0Afk",
        "outputId": "b0cb0c59-2494-4274-d24d-e7a83a3c9729"
      },
      "outputs": [
        {
          "output_type": "stream",
          "name": "stdout",
          "text": [
            "Requirement already satisfied: nltk in /usr/local/lib/python3.11/dist-packages (3.9.1)\n",
            "Requirement already satisfied: click in /usr/local/lib/python3.11/dist-packages (from nltk) (8.1.8)\n",
            "Requirement already satisfied: joblib in /usr/local/lib/python3.11/dist-packages (from nltk) (1.4.2)\n",
            "Requirement already satisfied: regex>=2021.8.3 in /usr/local/lib/python3.11/dist-packages (from nltk) (2024.11.6)\n",
            "Requirement already satisfied: tqdm in /usr/local/lib/python3.11/dist-packages (from nltk) (4.67.1)\n"
          ]
        }
      ],
      "source": [
        "!pip install nltk\n"
      ]
    },
    {
      "cell_type": "code",
      "source": [
        "Paragraph=\"\"\"Rohit Sharma (born 30 April 1987) is an Indian cricketer and the captain of national cricket team in Test and ODI formats. He is widely regarded as one of the best opening batters of all time.[3] He is also known for hitting sixes. He is a right-handed batsman who plays for Mumbai Indians in Indian Premier League and for Mumbai in domestic cricket. Rohit previously captained India in all three formats. After leading the victory at the 2024 Men's T20 World Cup, he announced his retirement from T20Is.[4][5]\n",
        "\n",
        "He holds several batting records which famously include most runs in T20 Internationals, most sixes in international cricket,[a] most double centuries in ODI cricket (3), most centuries at Cricket World Cups (7) and joint most hundreds in Twenty20 Internationals (5). He is the first player to score 5 T20I centuries,and holds record of hitting fastest T20I century in 35 balls.[7] He also holds the world record for the highest individual score (264) in a One Day International (ODI) match and is the only player to have scored three double-centuries in ODIs and also holds the record for scoring most hundreds (five) in a single Cricket World Cup, for which he won the ICC Men's ODI Cricketer of the Year award in 2019. He is the only player to win 50 matches as captain in T20Is.[8]\n",
        "\n",
        "He plays for Mumbai Indians and Mumbai cricket team in Indian Premier League (IPL) and domestic cricket respectively. He formerly captained Mumbai Indians and the team has won 5 Indian Premier League titles in 2013, 2015, 2017, 2019 and 2020 under him, making him the most successful captain in IPL history, sharing this record with MS Dhoni. With India, Rohit Sharma was a member of the team that won the 2007 T20 World Cup, and the 2013 ICC Champions Trophy, where he played in the finals of both tournaments. He is also one of two players who have played in every edition of the T20 World Cup, from the inaugural edition in 2007 to the latest one in 2024.[b] He is the only Indian player to win two T20 World Cups. He became the second Indian captain to win a T20 World Cup, when he led India to win the 2024 T20 World Cup.\n",
        "\n",
        "He has received two national honours, the Arjuna Award in 2015 and the prestigious Major Dhyan Chand Khel Ratna Award in 2020 by the Government of India. Under his captaincy, India won the 2018 Asia Cup and the 2023 Asia Cup, the seventh and eighth time the country won the title, both in ODI format as well as the 2018 Nidahas Trophy, their second overall and first in T20I format.\n",
        "\n",
        "Outside cricket, Sharma is an active supporter of animal welfare campaigns. He is the official Rhino Ambassador for WWF-India and is a member of People for the Ethical Treatment of Animals (PETA). He has worked with PETA in its campaign to raise awareness of the plight of homeless cats and dogs in India.\n",
        "\n",
        "\n",
        " \"\"\""
      ],
      "metadata": {
        "id": "8yXfh0u408av"
      },
      "execution_count": 2,
      "outputs": []
    },
    {
      "cell_type": "code",
      "source": [
        "Paragraph"
      ],
      "metadata": {
        "colab": {
          "base_uri": "https://localhost:8080/",
          "height": 125
        },
        "id": "f8vPjvZ51U7K",
        "outputId": "8456759a-89ed-4299-f818-83fcfdb4c0ad"
      },
      "execution_count": 3,
      "outputs": [
        {
          "output_type": "execute_result",
          "data": {
            "text/plain": [
              "\"Rohit Sharma (born 30 April 1987) is an Indian cricketer and the captain of national cricket team in Test and ODI formats. He is widely regarded as one of the best opening batters of all time.[3] He is also known for hitting sixes. He is a right-handed batsman who plays for Mumbai Indians in Indian Premier League and for Mumbai in domestic cricket. Rohit previously captained India in all three formats. After leading the victory at the 2024 Men's T20 World Cup, he announced his retirement from T20Is.[4][5]\\n\\nHe holds several batting records which famously include most runs in T20 Internationals, most sixes in international cricket,[a] most double centuries in ODI cricket (3), most centuries at Cricket World Cups (7) and joint most hundreds in Twenty20 Internationals (5). He is the first player to score 5 T20I centuries,and holds record of hitting fastest T20I century in 35 balls.[7] He also holds the world record for the highest individual score (264) in a One Day International (ODI) match and is the only player to have scored three double-centuries in ODIs and also holds the record for scoring most hundreds (five) in a single Cricket World Cup, for which he won the ICC Men's ODI Cricketer of the Year award in 2019. He is the only player to win 50 matches as captain in T20Is.[8]\\n\\nHe plays for Mumbai Indians and Mumbai cricket team in Indian Premier League (IPL) and domestic cricket respectively. He formerly captained Mumbai Indians and the team has won 5 Indian Premier League titles in 2013, 2015, 2017, 2019 and 2020 under him, making him the most successful captain in IPL history, sharing this record with MS Dhoni. With India, Rohit Sharma was a member of the team that won the 2007 T20 World Cup, and the 2013 ICC Champions Trophy, where he played in the finals of both tournaments. He is also one of two players who have played in every edition of the T20 World Cup, from the inaugural edition in 2007 to the latest one in 2024.[b] He is the only Indian player to win two T20 World Cups. He became the second Indian captain to win a T20 World Cup, when he led India to win the 2024 T20 World Cup.\\n\\nHe has received two national honours, the Arjuna Award in 2015 and the prestigious Major Dhyan Chand Khel Ratna Award in 2020 by the Government of India. Under his captaincy, India won the 2018 Asia Cup and the 2023 Asia Cup, the seventh and eighth time the country won the title, both in ODI format as well as the 2018 Nidahas Trophy, their second overall and first in T20I format.\\n\\nOutside cricket, Sharma is an active supporter of animal welfare campaigns. He is the official Rhino Ambassador for WWF-India and is a member of People for the Ethical Treatment of Animals (PETA). He has worked with PETA in its campaign to raise awareness of the plight of homeless cats and dogs in India.\\n\\n\\n \""
            ],
            "application/vnd.google.colaboratory.intrinsic+json": {
              "type": "string"
            }
          },
          "metadata": {},
          "execution_count": 3
        }
      ]
    },
    {
      "cell_type": "code",
      "source": [
        "import nltk\n",
        "from nltk.stem import PorterStemmer\n",
        "from nltk.corpus import stopwords\n"
      ],
      "metadata": {
        "id": "p-nGGfJL1YN8"
      },
      "execution_count": 4,
      "outputs": []
    },
    {
      "cell_type": "code",
      "source": [
        "# Tokenization--- coverts-paragraphs-words\n",
        "nltk.download('punkt_tab')\n",
        "sentences=nltk.sent_tokenize(Paragraph)\n"
      ],
      "metadata": {
        "colab": {
          "base_uri": "https://localhost:8080/"
        },
        "id": "MGvVe9Y_3oC4",
        "outputId": "3833692b-fb62-4313-e4d6-4c6395adf3a7"
      },
      "execution_count": 5,
      "outputs": [
        {
          "output_type": "stream",
          "name": "stderr",
          "text": [
            "[nltk_data] Downloading package punkt_tab to /root/nltk_data...\n",
            "[nltk_data]   Unzipping tokenizers/punkt_tab.zip.\n"
          ]
        }
      ]
    },
    {
      "cell_type": "code",
      "source": [
        "print(sentences)"
      ],
      "metadata": {
        "colab": {
          "base_uri": "https://localhost:8080/"
        },
        "id": "MO3YOkIs5SFE",
        "outputId": "594723b0-e345-476c-912d-272060579141"
      },
      "execution_count": 6,
      "outputs": [
        {
          "output_type": "stream",
          "name": "stdout",
          "text": [
            "['Rohit Sharma (born 30 April 1987) is an Indian cricketer and the captain of national cricket team in Test and ODI formats.', 'He is widely regarded as one of the best opening batters of all time.', '[3] He is also known for hitting sixes.', 'He is a right-handed batsman who plays for Mumbai Indians in Indian Premier League and for Mumbai in domestic cricket.', 'Rohit previously captained India in all three formats.', \"After leading the victory at the 2024 Men's T20 World Cup, he announced his retirement from T20Is.\", '[4][5]\\n\\nHe holds several batting records which famously include most runs in T20 Internationals, most sixes in international cricket,[a] most double centuries in ODI cricket (3), most centuries at Cricket World Cups (7) and joint most hundreds in Twenty20 Internationals (5).', 'He is the first player to score 5 T20I centuries,and holds record of hitting fastest T20I century in 35 balls.', \"[7] He also holds the world record for the highest individual score (264) in a One Day International (ODI) match and is the only player to have scored three double-centuries in ODIs and also holds the record for scoring most hundreds (five) in a single Cricket World Cup, for which he won the ICC Men's ODI Cricketer of the Year award in 2019.\", 'He is the only player to win 50 matches as captain in T20Is.', '[8]\\n\\nHe plays for Mumbai Indians and Mumbai cricket team in Indian Premier League (IPL) and domestic cricket respectively.', 'He formerly captained Mumbai Indians and the team has won 5 Indian Premier League titles in 2013, 2015, 2017, 2019 and 2020 under him, making him the most successful captain in IPL history, sharing this record with MS Dhoni.', 'With India, Rohit Sharma was a member of the team that won the 2007 T20 World Cup, and the 2013 ICC Champions Trophy, where he played in the finals of both tournaments.', 'He is also one of two players who have played in every edition of the T20 World Cup, from the inaugural edition in 2007 to the latest one in 2024.', '[b] He is the only Indian player to win two T20 World Cups.', 'He became the second Indian captain to win a T20 World Cup, when he led India to win the 2024 T20 World Cup.', 'He has received two national honours, the Arjuna Award in 2015 and the prestigious Major Dhyan Chand Khel Ratna Award in 2020 by the Government of India.', 'Under his captaincy, India won the 2018 Asia Cup and the 2023 Asia Cup, the seventh and eighth time the country won the title, both in ODI format as well as the 2018 Nidahas Trophy, their second overall and first in T20I format.', 'Outside cricket, Sharma is an active supporter of animal welfare campaigns.', 'He is the official Rhino Ambassador for WWF-India and is a member of People for the Ethical Treatment of Animals (PETA).', 'He has worked with PETA in its campaign to raise awareness of the plight of homeless cats and dogs in India.']\n"
          ]
        }
      ]
    },
    {
      "cell_type": "code",
      "source": [
        "type(sentences)"
      ],
      "metadata": {
        "colab": {
          "base_uri": "https://localhost:8080/"
        },
        "id": "2SBMj19m6GJh",
        "outputId": "bf375b75-5e0c-49d2-82a2-20b5f42e4baf"
      },
      "execution_count": 7,
      "outputs": [
        {
          "output_type": "execute_result",
          "data": {
            "text/plain": [
              "list"
            ]
          },
          "metadata": {},
          "execution_count": 7
        }
      ]
    },
    {
      "cell_type": "code",
      "source": [
        "stemmer=PorterStemmer()"
      ],
      "metadata": {
        "id": "qH6RQaSy6IPY"
      },
      "execution_count": 8,
      "outputs": []
    },
    {
      "cell_type": "code",
      "source": [
        "stemmer.stem('history')"
      ],
      "metadata": {
        "colab": {
          "base_uri": "https://localhost:8080/",
          "height": 35
        },
        "id": "LPcBimKw6i_I",
        "outputId": "1ebcbf57-e4e2-4649-f70c-f7c3ddd4afca"
      },
      "execution_count": 9,
      "outputs": [
        {
          "output_type": "execute_result",
          "data": {
            "text/plain": [
              "'histori'"
            ],
            "application/vnd.google.colaboratory.intrinsic+json": {
              "type": "string"
            }
          },
          "metadata": {},
          "execution_count": 9
        }
      ]
    },
    {
      "cell_type": "code",
      "source": [
        "import nltk\n",
        "nltk.download('wordnet')\n",
        "from nltk.stem import WordNetLemmatizer\n",
        "lemmatizer=WordNetLemmatizer()\n",
        "lemmatizer.lemmatize('history')\n",
        "lemmatizer.lemmatize('going')"
      ],
      "metadata": {
        "colab": {
          "base_uri": "https://localhost:8080/",
          "height": 53
        },
        "id": "im3z0b1i6nGI",
        "outputId": "61988744-4e49-4ca2-db98-64ee6b55af91"
      },
      "execution_count": 10,
      "outputs": [
        {
          "output_type": "stream",
          "name": "stderr",
          "text": [
            "[nltk_data] Downloading package wordnet to /root/nltk_data...\n"
          ]
        },
        {
          "output_type": "execute_result",
          "data": {
            "text/plain": [
              "'going'"
            ],
            "application/vnd.google.colaboratory.intrinsic+json": {
              "type": "string"
            }
          },
          "metadata": {},
          "execution_count": 10
        }
      ]
    },
    {
      "cell_type": "code",
      "source": [
        "# Cleaning the given text\n",
        "len(sentences)\n"
      ],
      "metadata": {
        "colab": {
          "base_uri": "https://localhost:8080/"
        },
        "id": "TqxyBisI7lOi",
        "outputId": "3247eae2-428a-4e45-b9e3-da86cfb6d490"
      },
      "execution_count": 11,
      "outputs": [
        {
          "output_type": "execute_result",
          "data": {
            "text/plain": [
              "21"
            ]
          },
          "metadata": {},
          "execution_count": 11
        }
      ]
    },
    {
      "cell_type": "code",
      "source": [
        "import re"
      ],
      "metadata": {
        "id": "-5n0FM8q72Pv"
      },
      "execution_count": 12,
      "outputs": []
    },
    {
      "cell_type": "code",
      "source": [
        "corpus=[]\n",
        "for i in range(len(sentences)):\n",
        "  review=re.sub('[^a-zA-Z]',' ',sentences[i])\n",
        "  # Above line means replace these characters with blank space\n",
        "  review=review.lower()\n",
        "  # All text will change to lower case\n",
        "  corpus.append(review)"
      ],
      "metadata": {
        "id": "_ZDrTsUL7-g0"
      },
      "execution_count": 13,
      "outputs": []
    },
    {
      "cell_type": "code",
      "source": [
        "corpus"
      ],
      "metadata": {
        "colab": {
          "base_uri": "https://localhost:8080/"
        },
        "id": "z3pjPBkr8vUR",
        "outputId": "5df1eba1-c52b-479c-8c73-e806a45e9e1a"
      },
      "execution_count": 14,
      "outputs": [
        {
          "output_type": "execute_result",
          "data": {
            "text/plain": [
              "['rohit sharma  born    april       is an indian cricketer and the captain of national cricket team in test and odi formats ',\n",
              " 'he is widely regarded as one of the best opening batters of all time ',\n",
              " '    he is also known for hitting sixes ',\n",
              " 'he is a right handed batsman who plays for mumbai indians in indian premier league and for mumbai in domestic cricket ',\n",
              " 'rohit previously captained india in all three formats ',\n",
              " 'after leading the victory at the      men s t   world cup  he announced his retirement from t  is ',\n",
              " '        he holds several batting records which famously include most runs in t   internationals  most sixes in international cricket  a  most double centuries in odi cricket      most centuries at cricket world cups     and joint most hundreds in twenty   internationals     ',\n",
              " 'he is the first player to score   t  i centuries and holds record of hitting fastest t  i century in    balls ',\n",
              " '    he also holds the world record for the highest individual score       in a one day international  odi  match and is the only player to have scored three double centuries in odis and also holds the record for scoring most hundreds  five  in a single cricket world cup  for which he won the icc men s odi cricketer of the year award in      ',\n",
              " 'he is the only player to win    matches as captain in t  is ',\n",
              " '     he plays for mumbai indians and mumbai cricket team in indian premier league  ipl  and domestic cricket respectively ',\n",
              " 'he formerly captained mumbai indians and the team has won   indian premier league titles in                        and      under him  making him the most successful captain in ipl history  sharing this record with ms dhoni ',\n",
              " 'with india  rohit sharma was a member of the team that won the      t   world cup  and the      icc champions trophy  where he played in the finals of both tournaments ',\n",
              " 'he is also one of two players who have played in every edition of the t   world cup  from the inaugural edition in      to the latest one in      ',\n",
              " ' b  he is the only indian player to win two t   world cups ',\n",
              " 'he became the second indian captain to win a t   world cup  when he led india to win the      t   world cup ',\n",
              " 'he has received two national honours  the arjuna award in      and the prestigious major dhyan chand khel ratna award in      by the government of india ',\n",
              " 'under his captaincy  india won the      asia cup and the      asia cup  the seventh and eighth time the country won the title  both in odi format as well as the      nidahas trophy  their second overall and first in t  i format ',\n",
              " 'outside cricket  sharma is an active supporter of animal welfare campaigns ',\n",
              " 'he is the official rhino ambassador for wwf india and is a member of people for the ethical treatment of animals  peta  ',\n",
              " 'he has worked with peta in its campaign to raise awareness of the plight of homeless cats and dogs in india ']"
            ]
          },
          "metadata": {},
          "execution_count": 14
        }
      ]
    },
    {
      "cell_type": "code",
      "source": [
        "# Applying Stemming\n",
        "for i in corpus:\n",
        "  print(i)\n"
      ],
      "metadata": {
        "colab": {
          "base_uri": "https://localhost:8080/"
        },
        "id": "JUZ3vhOU8wV0",
        "outputId": "7c07d9c0-8469-4a2d-9f02-84863fc77e4b"
      },
      "execution_count": 15,
      "outputs": [
        {
          "output_type": "stream",
          "name": "stdout",
          "text": [
            "rohit sharma  born    april       is an indian cricketer and the captain of national cricket team in test and odi formats \n",
            "he is widely regarded as one of the best opening batters of all time \n",
            "    he is also known for hitting sixes \n",
            "he is a right handed batsman who plays for mumbai indians in indian premier league and for mumbai in domestic cricket \n",
            "rohit previously captained india in all three formats \n",
            "after leading the victory at the      men s t   world cup  he announced his retirement from t  is \n",
            "        he holds several batting records which famously include most runs in t   internationals  most sixes in international cricket  a  most double centuries in odi cricket      most centuries at cricket world cups     and joint most hundreds in twenty   internationals     \n",
            "he is the first player to score   t  i centuries and holds record of hitting fastest t  i century in    balls \n",
            "    he also holds the world record for the highest individual score       in a one day international  odi  match and is the only player to have scored three double centuries in odis and also holds the record for scoring most hundreds  five  in a single cricket world cup  for which he won the icc men s odi cricketer of the year award in      \n",
            "he is the only player to win    matches as captain in t  is \n",
            "     he plays for mumbai indians and mumbai cricket team in indian premier league  ipl  and domestic cricket respectively \n",
            "he formerly captained mumbai indians and the team has won   indian premier league titles in                        and      under him  making him the most successful captain in ipl history  sharing this record with ms dhoni \n",
            "with india  rohit sharma was a member of the team that won the      t   world cup  and the      icc champions trophy  where he played in the finals of both tournaments \n",
            "he is also one of two players who have played in every edition of the t   world cup  from the inaugural edition in      to the latest one in      \n",
            " b  he is the only indian player to win two t   world cups \n",
            "he became the second indian captain to win a t   world cup  when he led india to win the      t   world cup \n",
            "he has received two national honours  the arjuna award in      and the prestigious major dhyan chand khel ratna award in      by the government of india \n",
            "under his captaincy  india won the      asia cup and the      asia cup  the seventh and eighth time the country won the title  both in odi format as well as the      nidahas trophy  their second overall and first in t  i format \n",
            "outside cricket  sharma is an active supporter of animal welfare campaigns \n",
            "he is the official rhino ambassador for wwf india and is a member of people for the ethical treatment of animals  peta  \n",
            "he has worked with peta in its campaign to raise awareness of the plight of homeless cats and dogs in india \n"
          ]
        }
      ]
    },
    {
      "cell_type": "code",
      "source": [
        "import nltk\n",
        "from nltk.stem import PorterStemmer\n",
        "from nltk.corpus import stopwords\n",
        "nltk.download('punkt')\n",
        "nltk.download('wordnet')\n",
        "nltk.download('stopwords')"
      ],
      "metadata": {
        "colab": {
          "base_uri": "https://localhost:8080/"
        },
        "id": "K4RbHGva-I0W",
        "outputId": "7f902e87-1e99-425b-db82-f96fc273d047"
      },
      "execution_count": 16,
      "outputs": [
        {
          "output_type": "stream",
          "name": "stderr",
          "text": [
            "[nltk_data] Downloading package punkt to /root/nltk_data...\n",
            "[nltk_data]   Unzipping tokenizers/punkt.zip.\n",
            "[nltk_data] Downloading package wordnet to /root/nltk_data...\n",
            "[nltk_data]   Package wordnet is already up-to-date!\n",
            "[nltk_data] Downloading package stopwords to /root/nltk_data...\n",
            "[nltk_data]   Unzipping corpora/stopwords.zip.\n"
          ]
        },
        {
          "output_type": "execute_result",
          "data": {
            "text/plain": [
              "True"
            ]
          },
          "metadata": {},
          "execution_count": 16
        }
      ]
    },
    {
      "cell_type": "code",
      "source": [
        "# How is stopwords selected\n",
        "stopwords.words('english')"
      ],
      "metadata": {
        "colab": {
          "base_uri": "https://localhost:8080/"
        },
        "collapsed": true,
        "id": "ND-QOfDy-tW-",
        "outputId": "0d3e7a0a-a9a4-4d87-93b4-6d9c3b79aa5e"
      },
      "execution_count": 17,
      "outputs": [
        {
          "output_type": "execute_result",
          "data": {
            "text/plain": [
              "['a',\n",
              " 'about',\n",
              " 'above',\n",
              " 'after',\n",
              " 'again',\n",
              " 'against',\n",
              " 'ain',\n",
              " 'all',\n",
              " 'am',\n",
              " 'an',\n",
              " 'and',\n",
              " 'any',\n",
              " 'are',\n",
              " 'aren',\n",
              " \"aren't\",\n",
              " 'as',\n",
              " 'at',\n",
              " 'be',\n",
              " 'because',\n",
              " 'been',\n",
              " 'before',\n",
              " 'being',\n",
              " 'below',\n",
              " 'between',\n",
              " 'both',\n",
              " 'but',\n",
              " 'by',\n",
              " 'can',\n",
              " 'couldn',\n",
              " \"couldn't\",\n",
              " 'd',\n",
              " 'did',\n",
              " 'didn',\n",
              " \"didn't\",\n",
              " 'do',\n",
              " 'does',\n",
              " 'doesn',\n",
              " \"doesn't\",\n",
              " 'doing',\n",
              " 'don',\n",
              " \"don't\",\n",
              " 'down',\n",
              " 'during',\n",
              " 'each',\n",
              " 'few',\n",
              " 'for',\n",
              " 'from',\n",
              " 'further',\n",
              " 'had',\n",
              " 'hadn',\n",
              " \"hadn't\",\n",
              " 'has',\n",
              " 'hasn',\n",
              " \"hasn't\",\n",
              " 'have',\n",
              " 'haven',\n",
              " \"haven't\",\n",
              " 'having',\n",
              " 'he',\n",
              " \"he'd\",\n",
              " \"he'll\",\n",
              " 'her',\n",
              " 'here',\n",
              " 'hers',\n",
              " 'herself',\n",
              " \"he's\",\n",
              " 'him',\n",
              " 'himself',\n",
              " 'his',\n",
              " 'how',\n",
              " 'i',\n",
              " \"i'd\",\n",
              " 'if',\n",
              " \"i'll\",\n",
              " \"i'm\",\n",
              " 'in',\n",
              " 'into',\n",
              " 'is',\n",
              " 'isn',\n",
              " \"isn't\",\n",
              " 'it',\n",
              " \"it'd\",\n",
              " \"it'll\",\n",
              " \"it's\",\n",
              " 'its',\n",
              " 'itself',\n",
              " \"i've\",\n",
              " 'just',\n",
              " 'll',\n",
              " 'm',\n",
              " 'ma',\n",
              " 'me',\n",
              " 'mightn',\n",
              " \"mightn't\",\n",
              " 'more',\n",
              " 'most',\n",
              " 'mustn',\n",
              " \"mustn't\",\n",
              " 'my',\n",
              " 'myself',\n",
              " 'needn',\n",
              " \"needn't\",\n",
              " 'no',\n",
              " 'nor',\n",
              " 'not',\n",
              " 'now',\n",
              " 'o',\n",
              " 'of',\n",
              " 'off',\n",
              " 'on',\n",
              " 'once',\n",
              " 'only',\n",
              " 'or',\n",
              " 'other',\n",
              " 'our',\n",
              " 'ours',\n",
              " 'ourselves',\n",
              " 'out',\n",
              " 'over',\n",
              " 'own',\n",
              " 're',\n",
              " 's',\n",
              " 'same',\n",
              " 'shan',\n",
              " \"shan't\",\n",
              " 'she',\n",
              " \"she'd\",\n",
              " \"she'll\",\n",
              " \"she's\",\n",
              " 'should',\n",
              " 'shouldn',\n",
              " \"shouldn't\",\n",
              " \"should've\",\n",
              " 'so',\n",
              " 'some',\n",
              " 'such',\n",
              " 't',\n",
              " 'than',\n",
              " 'that',\n",
              " \"that'll\",\n",
              " 'the',\n",
              " 'their',\n",
              " 'theirs',\n",
              " 'them',\n",
              " 'themselves',\n",
              " 'then',\n",
              " 'there',\n",
              " 'these',\n",
              " 'they',\n",
              " \"they'd\",\n",
              " \"they'll\",\n",
              " \"they're\",\n",
              " \"they've\",\n",
              " 'this',\n",
              " 'those',\n",
              " 'through',\n",
              " 'to',\n",
              " 'too',\n",
              " 'under',\n",
              " 'until',\n",
              " 'up',\n",
              " 've',\n",
              " 'very',\n",
              " 'was',\n",
              " 'wasn',\n",
              " \"wasn't\",\n",
              " 'we',\n",
              " \"we'd\",\n",
              " \"we'll\",\n",
              " \"we're\",\n",
              " 'were',\n",
              " 'weren',\n",
              " \"weren't\",\n",
              " \"we've\",\n",
              " 'what',\n",
              " 'when',\n",
              " 'where',\n",
              " 'which',\n",
              " 'while',\n",
              " 'who',\n",
              " 'whom',\n",
              " 'why',\n",
              " 'will',\n",
              " 'with',\n",
              " 'won',\n",
              " \"won't\",\n",
              " 'wouldn',\n",
              " \"wouldn't\",\n",
              " 'y',\n",
              " 'you',\n",
              " \"you'd\",\n",
              " \"you'll\",\n",
              " 'your',\n",
              " \"you're\",\n",
              " 'yours',\n",
              " 'yourself',\n",
              " 'yourselves',\n",
              " \"you've\"]"
            ]
          },
          "metadata": {},
          "execution_count": 17
        }
      ]
    },
    {
      "cell_type": "code",
      "source": [
        "# Stemming\n",
        "for i in corpus:\n",
        "  words = nltk.word_tokenize(i)\n",
        "  for word in words:\n",
        "    if word not in set(stopwords.words('english')):\n",
        "      print(stemmer.stem(word))\n",
        ""
      ],
      "metadata": {
        "colab": {
          "base_uri": "https://localhost:8080/"
        },
        "collapsed": true,
        "id": "beCz2mVI9ZTY",
        "outputId": "e888ee84-5613-477c-830e-c96e999c3fe4"
      },
      "execution_count": 18,
      "outputs": [
        {
          "output_type": "stream",
          "name": "stdout",
          "text": [
            "rohit\n",
            "sharma\n",
            "born\n",
            "april\n",
            "indian\n",
            "cricket\n",
            "captain\n",
            "nation\n",
            "cricket\n",
            "team\n",
            "test\n",
            "odi\n",
            "format\n",
            "wide\n",
            "regard\n",
            "one\n",
            "best\n",
            "open\n",
            "batter\n",
            "time\n",
            "also\n",
            "known\n",
            "hit\n",
            "six\n",
            "right\n",
            "hand\n",
            "batsman\n",
            "play\n",
            "mumbai\n",
            "indian\n",
            "indian\n",
            "premier\n",
            "leagu\n",
            "mumbai\n",
            "domest\n",
            "cricket\n",
            "rohit\n",
            "previous\n",
            "captain\n",
            "india\n",
            "three\n",
            "format\n",
            "lead\n",
            "victori\n",
            "men\n",
            "world\n",
            "cup\n",
            "announc\n",
            "retir\n",
            "hold\n",
            "sever\n",
            "bat\n",
            "record\n",
            "famous\n",
            "includ\n",
            "run\n",
            "intern\n",
            "six\n",
            "intern\n",
            "cricket\n",
            "doubl\n",
            "centuri\n",
            "odi\n",
            "cricket\n",
            "centuri\n",
            "cricket\n",
            "world\n",
            "cup\n",
            "joint\n",
            "hundr\n",
            "twenti\n",
            "intern\n",
            "first\n",
            "player\n",
            "score\n",
            "centuri\n",
            "hold\n",
            "record\n",
            "hit\n",
            "fastest\n",
            "centuri\n",
            "ball\n",
            "also\n",
            "hold\n",
            "world\n",
            "record\n",
            "highest\n",
            "individu\n",
            "score\n",
            "one\n",
            "day\n",
            "intern\n",
            "odi\n",
            "match\n",
            "player\n",
            "score\n",
            "three\n",
            "doubl\n",
            "centuri\n",
            "odi\n",
            "also\n",
            "hold\n",
            "record\n",
            "score\n",
            "hundr\n",
            "five\n",
            "singl\n",
            "cricket\n",
            "world\n",
            "cup\n",
            "icc\n",
            "men\n",
            "odi\n",
            "cricket\n",
            "year\n",
            "award\n",
            "player\n",
            "win\n",
            "match\n",
            "captain\n",
            "play\n",
            "mumbai\n",
            "indian\n",
            "mumbai\n",
            "cricket\n",
            "team\n",
            "indian\n",
            "premier\n",
            "leagu\n",
            "ipl\n",
            "domest\n",
            "cricket\n",
            "respect\n",
            "formerli\n",
            "captain\n",
            "mumbai\n",
            "indian\n",
            "team\n",
            "indian\n",
            "premier\n",
            "leagu\n",
            "titl\n",
            "make\n",
            "success\n",
            "captain\n",
            "ipl\n",
            "histori\n",
            "share\n",
            "record\n",
            "ms\n",
            "dhoni\n",
            "india\n",
            "rohit\n",
            "sharma\n",
            "member\n",
            "team\n",
            "world\n",
            "cup\n",
            "icc\n",
            "champion\n",
            "trophi\n",
            "play\n",
            "final\n",
            "tournament\n",
            "also\n",
            "one\n",
            "two\n",
            "player\n",
            "play\n",
            "everi\n",
            "edit\n",
            "world\n",
            "cup\n",
            "inaugur\n",
            "edit\n",
            "latest\n",
            "one\n",
            "b\n",
            "indian\n",
            "player\n",
            "win\n",
            "two\n",
            "world\n",
            "cup\n",
            "becam\n",
            "second\n",
            "indian\n",
            "captain\n",
            "win\n",
            "world\n",
            "cup\n",
            "led\n",
            "india\n",
            "win\n",
            "world\n",
            "cup\n",
            "receiv\n",
            "two\n",
            "nation\n",
            "honour\n",
            "arjuna\n",
            "award\n",
            "prestigi\n",
            "major\n",
            "dhyan\n",
            "chand\n",
            "khel\n",
            "ratna\n",
            "award\n",
            "govern\n",
            "india\n",
            "captainci\n",
            "india\n",
            "asia\n",
            "cup\n",
            "asia\n",
            "cup\n",
            "seventh\n",
            "eighth\n",
            "time\n",
            "countri\n",
            "titl\n",
            "odi\n",
            "format\n",
            "well\n",
            "nidaha\n",
            "trophi\n",
            "second\n",
            "overal\n",
            "first\n",
            "format\n",
            "outsid\n",
            "cricket\n",
            "sharma\n",
            "activ\n",
            "support\n",
            "anim\n",
            "welfar\n",
            "campaign\n",
            "offici\n",
            "rhino\n",
            "ambassador\n",
            "wwf\n",
            "india\n",
            "member\n",
            "peopl\n",
            "ethic\n",
            "treatment\n",
            "anim\n",
            "peta\n",
            "work\n",
            "peta\n",
            "campaign\n",
            "rais\n",
            "awar\n",
            "plight\n",
            "homeless\n",
            "cat\n",
            "dog\n",
            "india\n"
          ]
        }
      ]
    },
    {
      "cell_type": "code",
      "source": [
        "# Lemmatization\n",
        "for i in corpus:\n",
        "  words = nltk.word_tokenize(i)\n",
        "  for word in words:\n",
        "    if word not in set(stopwords.words('english')):\n",
        "      print(lemmatizer.lemmatize(word))"
      ],
      "metadata": {
        "colab": {
          "base_uri": "https://localhost:8080/"
        },
        "collapsed": true,
        "id": "CyD8-sG0_PrA",
        "outputId": "04aed6a1-a3b0-4200-b129-363be3d40047"
      },
      "execution_count": 19,
      "outputs": [
        {
          "output_type": "stream",
          "name": "stdout",
          "text": [
            "rohit\n",
            "sharma\n",
            "born\n",
            "april\n",
            "indian\n",
            "cricketer\n",
            "captain\n",
            "national\n",
            "cricket\n",
            "team\n",
            "test\n",
            "odi\n",
            "format\n",
            "widely\n",
            "regarded\n",
            "one\n",
            "best\n",
            "opening\n",
            "batter\n",
            "time\n",
            "also\n",
            "known\n",
            "hitting\n",
            "six\n",
            "right\n",
            "handed\n",
            "batsman\n",
            "play\n",
            "mumbai\n",
            "indian\n",
            "indian\n",
            "premier\n",
            "league\n",
            "mumbai\n",
            "domestic\n",
            "cricket\n",
            "rohit\n",
            "previously\n",
            "captained\n",
            "india\n",
            "three\n",
            "format\n",
            "leading\n",
            "victory\n",
            "men\n",
            "world\n",
            "cup\n",
            "announced\n",
            "retirement\n",
            "hold\n",
            "several\n",
            "batting\n",
            "record\n",
            "famously\n",
            "include\n",
            "run\n",
            "international\n",
            "six\n",
            "international\n",
            "cricket\n",
            "double\n",
            "century\n",
            "odi\n",
            "cricket\n",
            "century\n",
            "cricket\n",
            "world\n",
            "cup\n",
            "joint\n",
            "hundred\n",
            "twenty\n",
            "international\n",
            "first\n",
            "player\n",
            "score\n",
            "century\n",
            "hold\n",
            "record\n",
            "hitting\n",
            "fastest\n",
            "century\n",
            "ball\n",
            "also\n",
            "hold\n",
            "world\n",
            "record\n",
            "highest\n",
            "individual\n",
            "score\n",
            "one\n",
            "day\n",
            "international\n",
            "odi\n",
            "match\n",
            "player\n",
            "scored\n",
            "three\n",
            "double\n",
            "century\n",
            "odis\n",
            "also\n",
            "hold\n",
            "record\n",
            "scoring\n",
            "hundred\n",
            "five\n",
            "single\n",
            "cricket\n",
            "world\n",
            "cup\n",
            "icc\n",
            "men\n",
            "odi\n",
            "cricketer\n",
            "year\n",
            "award\n",
            "player\n",
            "win\n",
            "match\n",
            "captain\n",
            "play\n",
            "mumbai\n",
            "indian\n",
            "mumbai\n",
            "cricket\n",
            "team\n",
            "indian\n",
            "premier\n",
            "league\n",
            "ipl\n",
            "domestic\n",
            "cricket\n",
            "respectively\n",
            "formerly\n",
            "captained\n",
            "mumbai\n",
            "indian\n",
            "team\n",
            "indian\n",
            "premier\n",
            "league\n",
            "title\n",
            "making\n",
            "successful\n",
            "captain\n",
            "ipl\n",
            "history\n",
            "sharing\n",
            "record\n",
            "m\n",
            "dhoni\n",
            "india\n",
            "rohit\n",
            "sharma\n",
            "member\n",
            "team\n",
            "world\n",
            "cup\n",
            "icc\n",
            "champion\n",
            "trophy\n",
            "played\n",
            "final\n",
            "tournament\n",
            "also\n",
            "one\n",
            "two\n",
            "player\n",
            "played\n",
            "every\n",
            "edition\n",
            "world\n",
            "cup\n",
            "inaugural\n",
            "edition\n",
            "latest\n",
            "one\n",
            "b\n",
            "indian\n",
            "player\n",
            "win\n",
            "two\n",
            "world\n",
            "cup\n",
            "became\n",
            "second\n",
            "indian\n",
            "captain\n",
            "win\n",
            "world\n",
            "cup\n",
            "led\n",
            "india\n",
            "win\n",
            "world\n",
            "cup\n",
            "received\n",
            "two\n",
            "national\n",
            "honour\n",
            "arjuna\n",
            "award\n",
            "prestigious\n",
            "major\n",
            "dhyan\n",
            "chand\n",
            "khel\n",
            "ratna\n",
            "award\n",
            "government\n",
            "india\n",
            "captaincy\n",
            "india\n",
            "asia\n",
            "cup\n",
            "asia\n",
            "cup\n",
            "seventh\n",
            "eighth\n",
            "time\n",
            "country\n",
            "title\n",
            "odi\n",
            "format\n",
            "well\n",
            "nidahas\n",
            "trophy\n",
            "second\n",
            "overall\n",
            "first\n",
            "format\n",
            "outside\n",
            "cricket\n",
            "sharma\n",
            "active\n",
            "supporter\n",
            "animal\n",
            "welfare\n",
            "campaign\n",
            "official\n",
            "rhino\n",
            "ambassador\n",
            "wwf\n",
            "india\n",
            "member\n",
            "people\n",
            "ethical\n",
            "treatment\n",
            "animal\n",
            "peta\n",
            "worked\n",
            "peta\n",
            "campaign\n",
            "raise\n",
            "awareness\n",
            "plight\n",
            "homeless\n",
            "cat\n",
            "dog\n",
            "india\n"
          ]
        }
      ]
    },
    {
      "cell_type": "code",
      "source": [
        "# applying Stopwords.Lemmatize\n",
        "import re\n",
        "corpus=[]\n",
        "for i in range(len(sentences)):\n",
        "  review=re.sub('[^a-zA-Z]',' ',sentences[i])\n",
        "  review=review.lower()\n",
        "  review=review.split()\n",
        "  review=[lemmatizer.lemmatize(word) for word in review if not word in set(stopwords.words('english'))]\n",
        "  review=' '.join(review)\n",
        "  corpus.append(review)\n"
      ],
      "metadata": {
        "id": "6-5LztCcBnuu"
      },
      "execution_count": 20,
      "outputs": []
    },
    {
      "cell_type": "code",
      "source": [
        "# Bag of Words\n",
        "from sklearn.feature_extraction.text import CountVectorizer\n",
        "cv=CountVectorizer(binary=True,ngram_range=(1,2))\n",
        "# Remember the concept of Binary BOW(this make sure that the vector no will only be represented by 0 and 1)\n",
        "X=cv.fit_transform(corpus).toarray()"
      ],
      "metadata": {
        "id": "baeDcMVP_ddQ"
      },
      "execution_count": 22,
      "outputs": []
    },
    {
      "cell_type": "code",
      "source": [
        "cv.vocabulary_"
      ],
      "metadata": {
        "colab": {
          "base_uri": "https://localhost:8080/"
        },
        "collapsed": true,
        "id": "LHMlGxhl_4Ld",
        "outputId": "c1a5a438-03a0-4bda-b77c-76c9a51f0921"
      },
      "execution_count": 23,
      "outputs": [
        {
          "output_type": "execute_result",
          "data": {
            "text/plain": [
              "{'rohit': 266,\n",
              " 'sharma': 287,\n",
              " 'born': 35,\n",
              " 'april': 13,\n",
              " 'indian': 150,\n",
              " 'cricketer': 69,\n",
              " 'captain': 39,\n",
              " 'national': 200,\n",
              " 'cricket': 62,\n",
              " 'team': 299,\n",
              " 'test': 303,\n",
              " 'odi': 205,\n",
              " 'format': 111,\n",
              " 'rohit sharma': 268,\n",
              " 'sharma born': 289,\n",
              " 'born april': 36,\n",
              " 'april indian': 14,\n",
              " 'indian cricketer': 152,\n",
              " 'cricketer captain': 70,\n",
              " 'captain national': 41,\n",
              " 'national cricket': 201,\n",
              " 'cricket team': 67,\n",
              " 'team test': 301,\n",
              " 'test odi': 304,\n",
              " 'odi format': 208,\n",
              " 'widely': 331,\n",
              " 'regarded': 258,\n",
              " 'one': 214,\n",
              " 'best': 33,\n",
              " 'opening': 218,\n",
              " 'batter': 27,\n",
              " 'time': 308,\n",
              " 'widely regarded': 332,\n",
              " 'regarded one': 259,\n",
              " 'one best': 215,\n",
              " 'best opening': 34,\n",
              " 'opening batter': 219,\n",
              " 'batter time': 28,\n",
              " 'also': 2,\n",
              " 'known': 171,\n",
              " 'hitting': 123,\n",
              " 'six': 293,\n",
              " 'also known': 4,\n",
              " 'known hitting': 172,\n",
              " 'hitting six': 125,\n",
              " 'right': 264,\n",
              " 'handed': 117,\n",
              " 'batsman': 25,\n",
              " 'play': 228,\n",
              " 'mumbai': 196,\n",
              " 'premier': 240,\n",
              " 'league': 177,\n",
              " 'domestic': 87,\n",
              " 'right handed': 265,\n",
              " 'handed batsman': 118,\n",
              " 'batsman play': 26,\n",
              " 'play mumbai': 229,\n",
              " 'mumbai indian': 199,\n",
              " 'indian indian': 153,\n",
              " 'indian premier': 156,\n",
              " 'premier league': 241,\n",
              " 'league mumbai': 179,\n",
              " 'mumbai domestic': 198,\n",
              " 'domestic cricket': 88,\n",
              " 'previously': 244,\n",
              " 'captained': 45,\n",
              " 'india': 144,\n",
              " 'three': 305,\n",
              " 'rohit previously': 267,\n",
              " 'previously captained': 245,\n",
              " 'captained india': 46,\n",
              " 'india three': 148,\n",
              " 'three format': 307,\n",
              " 'leading': 175,\n",
              " 'victory': 325,\n",
              " 'men': 193,\n",
              " 'world': 339,\n",
              " 'cup': 72,\n",
              " 'announced': 11,\n",
              " 'retirement': 261,\n",
              " 'leading victory': 176,\n",
              " 'victory men': 326,\n",
              " 'men world': 195,\n",
              " 'world cup': 340,\n",
              " 'cup announced': 73,\n",
              " 'announced retirement': 12,\n",
              " 'hold': 126,\n",
              " 'several': 283,\n",
              " 'batting': 29,\n",
              " 'record': 252,\n",
              " 'famously': 100,\n",
              " 'include': 142,\n",
              " 'run': 269,\n",
              " 'international': 160,\n",
              " 'double': 89,\n",
              " 'century': 50,\n",
              " 'joint': 167,\n",
              " 'hundred': 134,\n",
              " 'twenty': 319,\n",
              " 'hold several': 128,\n",
              " 'several batting': 284,\n",
              " 'batting record': 30,\n",
              " 'record famously': 254,\n",
              " 'famously include': 101,\n",
              " 'include run': 143,\n",
              " 'run international': 270,\n",
              " 'international six': 163,\n",
              " 'six international': 294,\n",
              " 'international cricket': 161,\n",
              " 'cricket double': 64,\n",
              " 'double century': 90,\n",
              " 'century odi': 54,\n",
              " 'odi cricket': 206,\n",
              " 'cricket century': 63,\n",
              " 'century cricket': 52,\n",
              " 'cricket world': 68,\n",
              " 'cup joint': 77,\n",
              " 'joint hundred': 168,\n",
              " 'hundred twenty': 136,\n",
              " 'twenty international': 320,\n",
              " 'first': 106,\n",
              " 'player': 233,\n",
              " 'score': 271,\n",
              " 'fastest': 102,\n",
              " 'ball': 24,\n",
              " 'first player': 108,\n",
              " 'player score': 235,\n",
              " 'score century': 272,\n",
              " 'century hold': 53,\n",
              " 'hold record': 127,\n",
              " 'record hitting': 256,\n",
              " 'hitting fastest': 124,\n",
              " 'fastest century': 103,\n",
              " 'century ball': 51,\n",
              " 'highest': 119,\n",
              " 'individual': 158,\n",
              " 'day': 80,\n",
              " 'match': 187,\n",
              " 'scored': 274,\n",
              " 'odis': 210,\n",
              " 'scoring': 276,\n",
              " 'five': 109,\n",
              " 'single': 291,\n",
              " 'icc': 137,\n",
              " 'year': 344,\n",
              " 'award': 19,\n",
              " 'also hold': 3,\n",
              " 'hold world': 129,\n",
              " 'world record': 341,\n",
              " 'record highest': 255,\n",
              " 'highest individual': 120,\n",
              " 'individual score': 159,\n",
              " 'score one': 273,\n",
              " 'one day': 216,\n",
              " 'day international': 81,\n",
              " 'international odi': 162,\n",
              " 'odi match': 209,\n",
              " 'match player': 189,\n",
              " 'player scored': 236,\n",
              " 'scored three': 275,\n",
              " 'three double': 306,\n",
              " 'century odis': 55,\n",
              " 'odis also': 211,\n",
              " 'record scoring': 257,\n",
              " 'scoring hundred': 277,\n",
              " 'hundred five': 135,\n",
              " 'five single': 110,\n",
              " 'single cricket': 292,\n",
              " 'cup icc': 75,\n",
              " 'icc men': 139,\n",
              " 'men odi': 194,\n",
              " 'odi cricketer': 207,\n",
              " 'cricketer year': 71,\n",
              " 'year award': 345,\n",
              " 'win': 333,\n",
              " 'player win': 237,\n",
              " 'win match': 334,\n",
              " 'match captain': 188,\n",
              " 'ipl': 164,\n",
              " 'respectively': 260,\n",
              " 'indian mumbai': 154,\n",
              " 'mumbai cricket': 197,\n",
              " 'team indian': 300,\n",
              " 'league ipl': 178,\n",
              " 'ipl domestic': 165,\n",
              " 'cricket respectively': 65,\n",
              " 'formerly': 113,\n",
              " 'title': 310,\n",
              " 'making': 185,\n",
              " 'successful': 295,\n",
              " 'history': 121,\n",
              " 'sharing': 285,\n",
              " 'dhoni': 82,\n",
              " 'formerly captained': 114,\n",
              " 'captained mumbai': 47,\n",
              " 'indian team': 157,\n",
              " 'league title': 180,\n",
              " 'title making': 311,\n",
              " 'making successful': 186,\n",
              " 'successful captain': 296,\n",
              " 'captain ipl': 40,\n",
              " 'ipl history': 166,\n",
              " 'history sharing': 122,\n",
              " 'sharing record': 286,\n",
              " 'record dhoni': 253,\n",
              " 'member': 190,\n",
              " 'champion': 56,\n",
              " 'trophy': 316,\n",
              " 'played': 230,\n",
              " 'final': 104,\n",
              " 'tournament': 313,\n",
              " 'india rohit': 147,\n",
              " 'sharma member': 290,\n",
              " 'member team': 192,\n",
              " 'team world': 302,\n",
              " 'icc champion': 138,\n",
              " 'champion trophy': 57,\n",
              " 'trophy played': 317,\n",
              " 'played final': 232,\n",
              " 'final tournament': 105,\n",
              " 'two': 321,\n",
              " 'every': 98,\n",
              " 'edition': 91,\n",
              " 'inaugural': 140,\n",
              " 'latest': 173,\n",
              " 'also one': 5,\n",
              " 'one two': 217,\n",
              " 'two player': 323,\n",
              " 'player played': 234,\n",
              " 'played every': 231,\n",
              " 'every edition': 99,\n",
              " 'edition world': 93,\n",
              " 'cup inaugural': 76,\n",
              " 'inaugural edition': 141,\n",
              " 'edition latest': 92,\n",
              " 'latest one': 174,\n",
              " 'indian player': 155,\n",
              " 'win two': 335,\n",
              " 'two world': 324,\n",
              " 'became': 31,\n",
              " 'second': 278,\n",
              " 'led': 181,\n",
              " 'became second': 32,\n",
              " 'second indian': 279,\n",
              " 'indian captain': 151,\n",
              " 'captain win': 42,\n",
              " 'win world': 336,\n",
              " 'cup led': 78,\n",
              " 'led india': 182,\n",
              " 'india win': 149,\n",
              " 'received': 250,\n",
              " 'honour': 132,\n",
              " 'arjuna': 15,\n",
              " 'prestigious': 242,\n",
              " 'major': 183,\n",
              " 'dhyan': 83,\n",
              " 'chand': 58,\n",
              " 'khel': 169,\n",
              " 'ratna': 248,\n",
              " 'government': 115,\n",
              " 'received two': 251,\n",
              " 'two national': 322,\n",
              " 'national honour': 202,\n",
              " 'honour arjuna': 133,\n",
              " 'arjuna award': 16,\n",
              " 'award prestigious': 21,\n",
              " 'prestigious major': 243,\n",
              " 'major dhyan': 184,\n",
              " 'dhyan chand': 84,\n",
              " 'chand khel': 59,\n",
              " 'khel ratna': 170,\n",
              " 'ratna award': 249,\n",
              " 'award government': 20,\n",
              " 'government india': 116,\n",
              " 'captaincy': 43,\n",
              " 'asia': 17,\n",
              " 'seventh': 281,\n",
              " 'eighth': 94,\n",
              " 'country': 60,\n",
              " 'well': 329,\n",
              " 'nidahas': 203,\n",
              " 'overall': 222,\n",
              " 'captaincy india': 44,\n",
              " 'india asia': 145,\n",
              " 'asia cup': 18,\n",
              " 'cup asia': 74,\n",
              " 'cup seventh': 79,\n",
              " 'seventh eighth': 282,\n",
              " 'eighth time': 95,\n",
              " 'time country': 309,\n",
              " 'country title': 61,\n",
              " 'title odi': 312,\n",
              " 'format well': 112,\n",
              " 'well nidahas': 330,\n",
              " 'nidahas trophy': 204,\n",
              " 'trophy second': 318,\n",
              " 'second overall': 280,\n",
              " 'overall first': 223,\n",
              " 'first format': 107,\n",
              " 'outside': 220,\n",
              " 'active': 0,\n",
              " 'supporter': 297,\n",
              " 'animal': 8,\n",
              " 'welfare': 327,\n",
              " 'campaign': 37,\n",
              " 'outside cricket': 221,\n",
              " 'cricket sharma': 66,\n",
              " 'sharma active': 288,\n",
              " 'active supporter': 1,\n",
              " 'supporter animal': 298,\n",
              " 'animal welfare': 10,\n",
              " 'welfare campaign': 328,\n",
              " 'official': 212,\n",
              " 'rhino': 262,\n",
              " 'ambassador': 6,\n",
              " 'wwf': 342,\n",
              " 'people': 224,\n",
              " 'ethical': 96,\n",
              " 'treatment': 314,\n",
              " 'peta': 226,\n",
              " 'official rhino': 213,\n",
              " 'rhino ambassador': 263,\n",
              " 'ambassador wwf': 7,\n",
              " 'wwf india': 343,\n",
              " 'india member': 146,\n",
              " 'member people': 191,\n",
              " 'people ethical': 225,\n",
              " 'ethical treatment': 97,\n",
              " 'treatment animal': 315,\n",
              " 'animal peta': 9,\n",
              " 'worked': 337,\n",
              " 'raise': 246,\n",
              " 'awareness': 22,\n",
              " 'plight': 238,\n",
              " 'homeless': 130,\n",
              " 'cat': 48,\n",
              " 'dog': 85,\n",
              " 'worked peta': 338,\n",
              " 'peta campaign': 227,\n",
              " 'campaign raise': 38,\n",
              " 'raise awareness': 247,\n",
              " 'awareness plight': 23,\n",
              " 'plight homeless': 239,\n",
              " 'homeless cat': 131,\n",
              " 'cat dog': 49,\n",
              " 'dog india': 86}"
            ]
          },
          "metadata": {},
          "execution_count": 23
        }
      ]
    },
    {
      "cell_type": "code",
      "source": [
        "# How Vector is created\n",
        "corpus[0]"
      ],
      "metadata": {
        "colab": {
          "base_uri": "https://localhost:8080/",
          "height": 35
        },
        "id": "9pEDpKHMAEkK",
        "outputId": "1ed810c8-347a-45f9-d628-af383bbcfe98"
      },
      "execution_count": 24,
      "outputs": [
        {
          "output_type": "execute_result",
          "data": {
            "text/plain": [
              "'rohit sharma born april indian cricketer captain national cricket team test odi format'"
            ],
            "application/vnd.google.colaboratory.intrinsic+json": {
              "type": "string"
            }
          },
          "metadata": {},
          "execution_count": 24
        }
      ]
    },
    {
      "cell_type": "code",
      "source": [
        "# Vector Representation\n",
        "X[0]"
      ],
      "metadata": {
        "colab": {
          "base_uri": "https://localhost:8080/"
        },
        "id": "hzvydH_tALll",
        "outputId": "5086465e-d91e-4f5a-fa6b-abda9f56b2d7"
      },
      "execution_count": 25,
      "outputs": [
        {
          "output_type": "execute_result",
          "data": {
            "text/plain": [
              "array([0, 0, 0, 0, 0, 0, 0, 0, 0, 0, 0, 0, 0, 1, 1, 0, 0, 0, 0, 0, 0, 0,\n",
              "       0, 0, 0, 0, 0, 0, 0, 0, 0, 0, 0, 0, 0, 1, 1, 0, 0, 1, 0, 1, 0, 0,\n",
              "       0, 0, 0, 0, 0, 0, 0, 0, 0, 0, 0, 0, 0, 0, 0, 0, 0, 0, 1, 0, 0, 0,\n",
              "       0, 1, 0, 1, 1, 0, 0, 0, 0, 0, 0, 0, 0, 0, 0, 0, 0, 0, 0, 0, 0, 0,\n",
              "       0, 0, 0, 0, 0, 0, 0, 0, 0, 0, 0, 0, 0, 0, 0, 0, 0, 0, 0, 0, 0, 0,\n",
              "       0, 1, 0, 0, 0, 0, 0, 0, 0, 0, 0, 0, 0, 0, 0, 0, 0, 0, 0, 0, 0, 0,\n",
              "       0, 0, 0, 0, 0, 0, 0, 0, 0, 0, 0, 0, 0, 0, 0, 0, 0, 0, 1, 0, 1, 0,\n",
              "       0, 0, 0, 0, 0, 0, 0, 0, 0, 0, 0, 0, 0, 0, 0, 0, 0, 0, 0, 0, 0, 0,\n",
              "       0, 0, 0, 0, 0, 0, 0, 0, 0, 0, 0, 0, 0, 0, 0, 0, 0, 0, 0, 0, 0, 0,\n",
              "       0, 0, 1, 1, 0, 0, 0, 1, 0, 0, 1, 0, 0, 0, 0, 0, 0, 0, 0, 0, 0, 0,\n",
              "       0, 0, 0, 0, 0, 0, 0, 0, 0, 0, 0, 0, 0, 0, 0, 0, 0, 0, 0, 0, 0, 0,\n",
              "       0, 0, 0, 0, 0, 0, 0, 0, 0, 0, 0, 0, 0, 0, 0, 0, 0, 0, 0, 0, 0, 0,\n",
              "       0, 0, 1, 0, 1, 0, 0, 0, 0, 0, 0, 0, 0, 0, 0, 0, 0, 0, 0, 0, 0, 0,\n",
              "       0, 1, 0, 1, 0, 0, 0, 0, 0, 0, 0, 0, 0, 1, 0, 1, 0, 1, 1, 0, 0, 0,\n",
              "       0, 0, 0, 0, 0, 0, 0, 0, 0, 0, 0, 0, 0, 0, 0, 0, 0, 0, 0, 0, 0, 0,\n",
              "       0, 0, 0, 0, 0, 0, 0, 0, 0, 0, 0, 0, 0, 0, 0, 0])"
            ]
          },
          "metadata": {},
          "execution_count": 25
        }
      ]
    },
    {
      "cell_type": "code",
      "source": [
        "# TF-IDF\n",
        "from sklearn.feature_extraction.text import TfidfVectorizer\n",
        "cv=TfidfVectorizer(ngram_range=(1,2),max_features=3)\n",
        "# Here max feature represents the top 3 max frequency means features which occured highest and ranked top 3 based on frequency\n",
        "X=cv.fit_transform(corpus).toarray()"
      ],
      "metadata": {
        "id": "HolpSrFfAb4O"
      },
      "execution_count": 29,
      "outputs": []
    },
    {
      "cell_type": "code",
      "source": [
        "corpus[0]"
      ],
      "metadata": {
        "colab": {
          "base_uri": "https://localhost:8080/",
          "height": 35
        },
        "id": "X3gp9Ywzek8_",
        "outputId": "28c5f364-3275-4325-fe1c-923f3f31af55"
      },
      "execution_count": 30,
      "outputs": [
        {
          "output_type": "execute_result",
          "data": {
            "text/plain": [
              "'rohit sharma born april indian cricketer captain national cricket team test odi format'"
            ],
            "application/vnd.google.colaboratory.intrinsic+json": {
              "type": "string"
            }
          },
          "metadata": {},
          "execution_count": 30
        }
      ]
    },
    {
      "cell_type": "code",
      "source": [
        "X[0]\n"
      ],
      "metadata": {
        "colab": {
          "base_uri": "https://localhost:8080/"
        },
        "id": "ToPiM95ven2S",
        "outputId": "7670b751-faa7-4c74-b5ae-b0cfe2eb8713"
      },
      "execution_count": 31,
      "outputs": [
        {
          "output_type": "execute_result",
          "data": {
            "text/plain": [
              "array([0.        , 0.        , 0.        , 0.        , 0.        ,\n",
              "       0.        , 0.        , 0.        , 0.        , 0.        ,\n",
              "       0.        , 0.        , 0.        , 0.22262896, 0.22262896,\n",
              "       0.        , 0.        , 0.        , 0.        , 0.        ,\n",
              "       0.        , 0.        , 0.        , 0.        , 0.        ,\n",
              "       0.        , 0.        , 0.        , 0.        , 0.        ,\n",
              "       0.        , 0.        , 0.        , 0.        , 0.        ,\n",
              "       0.22262896, 0.22262896, 0.        , 0.        , 0.1625939 ,\n",
              "       0.        , 0.22262896, 0.        , 0.        , 0.        ,\n",
              "       0.        , 0.        , 0.        , 0.        , 0.        ,\n",
              "       0.        , 0.        , 0.        , 0.        , 0.        ,\n",
              "       0.        , 0.        , 0.        , 0.        , 0.        ,\n",
              "       0.        , 0.        , 0.14054835, 0.        , 0.        ,\n",
              "       0.        , 0.        , 0.19606302, 0.        , 0.19606302,\n",
              "       0.22262896, 0.        , 0.        , 0.        , 0.        ,\n",
              "       0.        , 0.        , 0.        , 0.        , 0.        ,\n",
              "       0.        , 0.        , 0.        , 0.        , 0.        ,\n",
              "       0.        , 0.        , 0.        , 0.        , 0.        ,\n",
              "       0.        , 0.        , 0.        , 0.        , 0.        ,\n",
              "       0.        , 0.        , 0.        , 0.        , 0.        ,\n",
              "       0.        , 0.        , 0.        , 0.        , 0.        ,\n",
              "       0.        , 0.        , 0.        , 0.        , 0.        ,\n",
              "       0.        , 0.17721419, 0.        , 0.        , 0.        ,\n",
              "       0.        , 0.        , 0.        , 0.        , 0.        ,\n",
              "       0.        , 0.        , 0.        , 0.        , 0.        ,\n",
              "       0.        , 0.        , 0.        , 0.        , 0.        ,\n",
              "       0.        , 0.        , 0.        , 0.        , 0.        ,\n",
              "       0.        , 0.        , 0.        , 0.        , 0.        ,\n",
              "       0.        , 0.        , 0.        , 0.        , 0.        ,\n",
              "       0.        , 0.        , 0.        , 0.        , 0.        ,\n",
              "       0.14054835, 0.        , 0.22262896, 0.        , 0.        ,\n",
              "       0.        , 0.        , 0.        , 0.        , 0.        ,\n",
              "       0.        , 0.        , 0.        , 0.        , 0.        ,\n",
              "       0.        , 0.        , 0.        , 0.        , 0.        ,\n",
              "       0.        , 0.        , 0.        , 0.        , 0.        ,\n",
              "       0.        , 0.        , 0.        , 0.        , 0.        ,\n",
              "       0.        , 0.        , 0.        , 0.        , 0.        ,\n",
              "       0.        , 0.        , 0.        , 0.        , 0.        ,\n",
              "       0.        , 0.        , 0.        , 0.        , 0.        ,\n",
              "       0.        , 0.        , 0.        , 0.        , 0.        ,\n",
              "       0.19606302, 0.22262896, 0.        , 0.        , 0.        ,\n",
              "       0.1625939 , 0.        , 0.        , 0.19606302, 0.        ,\n",
              "       0.        , 0.        , 0.        , 0.        , 0.        ,\n",
              "       0.        , 0.        , 0.        , 0.        , 0.        ,\n",
              "       0.        , 0.        , 0.        , 0.        , 0.        ,\n",
              "       0.        , 0.        , 0.        , 0.        , 0.        ,\n",
              "       0.        , 0.        , 0.        , 0.        , 0.        ,\n",
              "       0.        , 0.        , 0.        , 0.        , 0.        ,\n",
              "       0.        , 0.        , 0.        , 0.        , 0.        ,\n",
              "       0.        , 0.        , 0.        , 0.        , 0.        ,\n",
              "       0.        , 0.        , 0.        , 0.        , 0.        ,\n",
              "       0.        , 0.        , 0.        , 0.        , 0.        ,\n",
              "       0.        , 0.        , 0.        , 0.        , 0.        ,\n",
              "       0.        , 0.17721419, 0.        , 0.19606302, 0.        ,\n",
              "       0.        , 0.        , 0.        , 0.        , 0.        ,\n",
              "       0.        , 0.        , 0.        , 0.        , 0.        ,\n",
              "       0.        , 0.        , 0.        , 0.        , 0.        ,\n",
              "       0.        , 0.        , 0.17721419, 0.        , 0.22262896,\n",
              "       0.        , 0.        , 0.        , 0.        , 0.        ,\n",
              "       0.        , 0.        , 0.        , 0.        , 0.1625939 ,\n",
              "       0.        , 0.22262896, 0.        , 0.22262896, 0.22262896,\n",
              "       0.        , 0.        , 0.        , 0.        , 0.        ,\n",
              "       0.        , 0.        , 0.        , 0.        , 0.        ,\n",
              "       0.        , 0.        , 0.        , 0.        , 0.        ,\n",
              "       0.        , 0.        , 0.        , 0.        , 0.        ,\n",
              "       0.        , 0.        , 0.        , 0.        , 0.        ,\n",
              "       0.        , 0.        , 0.        , 0.        , 0.        ,\n",
              "       0.        , 0.        , 0.        , 0.        , 0.        ,\n",
              "       0.        , 0.        , 0.        , 0.        , 0.        ,\n",
              "       0.        ])"
            ]
          },
          "metadata": {},
          "execution_count": 31
        }
      ]
    },
    {
      "cell_type": "code",
      "source": [],
      "metadata": {
        "id": "Vc5ntVcxet-J"
      },
      "execution_count": null,
      "outputs": []
    }
  ]
}